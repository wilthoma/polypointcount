{
 "cells": [
  {
   "cell_type": "code",
   "execution_count": 9,
   "metadata": {},
   "outputs": [],
   "source": [
    "Rw.<w> = PowerSeriesRing(QQ, default_prec=11)\n",
    "Ru.<u> = PowerSeriesRing(Rw, default_prec=2400) # default_prec should be 4x the desired output precision\n",
    "\n",
    "def B(X, cutoff):\n",
    "    Y = (1/X).power_series() +O(u^cutoff)\n",
    "    Y2 = Y^2 + O(u^cutoff)\n",
    "    accu = bernoulli(2) * Y  / 2 \n",
    "    YPow = Y\n",
    "    for k in range(4, cutoff):\n",
    "        if k%2==0:\n",
    "            YPow = YPow * Y2 + O(u^cutoff)\n",
    "            accu = accu + bernoulli(k) * YPow / (k*(k-1))\n",
    "    return accu\n",
    "    #return sum( bernoulli(k) * Y^(k-1)  / (k*(k-1)) for k in range(2, cutoff) if k%2 ==0 ) +O(u^cutoff)\n",
    "def El(l):\n",
    "    return sum(moebius(l/d)*u^(-d) for d in divisors(l) )/l\n",
    "def lal(l):\n",
    "    return u^l*(1-u^l)*l\n",
    "\n",
    "def wt11Xl(l):\n",
    "    return sum(moebius(l/d)*(1-w^d+O(w^11)) for d in divisors(l))/l\n",
    "\n",
    "def logUl1(X, l, cutoff):\n",
    "    return ( X*(log( (lal(l)*El(l)).power_series() +O(u^cutoff)) -1) +(-El(l)+X-1/2)*log((1-(X +O(u^(l+cutoff)) )/El(l)).power_series())).power_series()\n",
    "def logUl2(X, l, cutoff):\n",
    "    return B(-El(l)+X, cutoff)-B(-El(l), cutoff) \n",
    "def logUl2a(X, l, cutoff):\n",
    "    return B(-El(l)+X, cutoff)\n",
    "def logUlp1(l, cutoff):\n",
    "    return logUl1(wt11Xl(l),l,cutoff)\n",
    "def logUlp2(l, cutoff):\n",
    "    return logUl2(wt11Xl(l),l,cutoff)\n",
    "def logUlp2a(l, cutoff):\n",
    "    return logUl2a(wt11Xl(l),l,cutoff)\n",
    "\n",
    "def logUl(X, l, cutoff):\n",
    "    return logUl1(X, l, cutoff) + logUl2(X, l, cutoff)\n",
    "    #return ( X*(log( (lal(l)*El(l)).power_series() ) -1) +(-El(l)+X-1/2)*log((1-X/El(l)).power_series())).power_series()+B(-El(l)+X, cutoff)-B(-El(l), cutoff) \n",
    "def logUlp(l, cutoff):\n",
    "    return logUlp1(l, cutoff) + logUlp2(l, cutoff)\n",
    "\n",
    "def mindeg(X):\n",
    "    return min([99999] + X.exponents())\n"
   ]
  },
  {
   "cell_type": "code",
   "execution_count": 13,
   "metadata": {},
   "outputs": [],
   "source": [
    "def preZ(cutoff):\n",
    "    # need to go to twice the cutoff\n",
    "    #return -u*(exp(sum(logUlp(l,cutoff) for l in range(1, 2*cutoff) ))-1)\n",
    "    return -u*(exp(sum(logUlp1(l,cutoff) for l in range(1, 2*cutoff) ) + sum(logUlp2(l,cutoff) for l in range(1, cutoff/2) ))-1)\n",
    "def makeZ(Z):\n",
    "    return Z.map_coefficients(lambda c: (c.truncate(11))(1) )\n",
    "\n",
    "def pickwcoeff(Z,j):\n",
    "    return Z.map_coefficients( lambda c: c[j])\n",
    "def bigZ(cutoff):\n",
    "    return makeZ(preZ(cutoff))\n",
    "def preZl(l, cutoff):\n",
    "    return  exp(logUlp(l,cutoff))\n",
    "def preZl2(l, cutoff):\n",
    "    return  exp(logUlp2(l,cutoff))\n",
    "\n",
    "# The asymptotic formula for the Euler characteristic\n",
    "def asymp_Z(g):\n",
    "    Cev = 1/factorial(10) * 1024 * pi^2 *(14175 - 4725 * pi^2 + 630 * pi^4 - 45 * pi^6 + 2 * pi^8)\n",
    "    Codd = 4* pi / factorial(10) * 1280 *(2835 + 2 * pi^2 * (-945 + 189 * pi^2 - 18 * pi^4 + pi^6))\n",
    "    return factorial(g-2) / (2*pi)^g * ((-1)^(g/2) * Cev if g%2==0 else (-1)^((g-1)/2)*Codd)"
   ]
  },
  {
   "cell_type": "code",
   "execution_count": 15,
   "metadata": {},
   "outputs": [],
   "source": [
    "# code to compute the leading oder terms of the series \\mathbb{A}\n",
    "def computeAA(cutoff):\n",
    "    return exp(sum(logUlp1(l,cutoff) for l in range(1, 2*cutoff) ) + sum(logUlp2(l,cutoff) for l in range(2, cutoff/2) ))-1"
   ]
  },
  {
   "cell_type": "markdown",
   "metadata": {},
   "source": [
    "The following commands compute the series Z up to various cutoffs"
   ]
  },
  {
   "cell_type": "code",
   "execution_count": 181,
   "metadata": {},
   "outputs": [
    {
     "name": "stdout",
     "output_type": "stream",
     "text": [
      "CPU times: user 18.1 s, sys: 26.9 ms, total: 18.1 s\n",
      "Wall time: 18.1 s\n"
     ]
    }
   ],
   "source": [
    "%time theZ_30 = bigZ(30)"
   ]
  },
  {
   "cell_type": "code",
   "execution_count": 183,
   "metadata": {},
   "outputs": [
    {
     "name": "stdout",
     "output_type": "stream",
     "text": [
      "CPU times: user 27 s, sys: 80.2 ms, total: 27 s\n",
      "Wall time: 27.1 s\n"
     ]
    }
   ],
   "source": [
    "%time theZ_40 = bigZ(40)"
   ]
  },
  {
   "cell_type": "code",
   "execution_count": 201,
   "metadata": {},
   "outputs": [
    {
     "name": "stdout",
     "output_type": "stream",
     "text": [
      "CPU times: user 1min 8s, sys: 509 ms, total: 1min 9s\n",
      "Wall time: 1min 9s\n"
     ]
    }
   ],
   "source": [
    "%time theZ_70 = bigZ(70)"
   ]
  },
  {
   "cell_type": "code",
   "execution_count": 205,
   "metadata": {},
   "outputs": [
    {
     "name": "stdout",
     "output_type": "stream",
     "text": [
      "CPU times: user 14min 47s, sys: 3 s, total: 14min 50s\n",
      "Wall time: 14min 52s\n"
     ]
    }
   ],
   "source": [
    "%time theZ_200 = bigZ(200)"
   ]
  },
  {
   "cell_type": "code",
   "execution_count": 209,
   "metadata": {},
   "outputs": [
    {
     "name": "stdout",
     "output_type": "stream",
     "text": [
      "CPU times: user 1h 57min 45s, sys: 32.2 s, total: 1h 58min 18s\n",
      "Wall time: 1h 58min 28s\n"
     ]
    }
   ],
   "source": [
    "%time theZ_400 = bigZ(400)"
   ]
  },
  {
   "cell_type": "code",
   "execution_count": 323,
   "metadata": {},
   "outputs": [
    {
     "name": "stdout",
     "output_type": "stream",
     "text": [
      "CPU times: user 6h 39min 10s, sys: 1min 45s, total: 6h 40min 55s\n",
      "Wall time: 7h 52min 7s\n"
     ]
    }
   ],
   "source": [
    "%time theZ_600 = bigZ(600)"
   ]
  },
  {
   "cell_type": "code",
   "execution_count": 8,
   "metadata": {},
   "outputs": [],
   "source": [
    "#save(theZ_400, \"data/theZ_400\")\n",
    "#theZ_400=load(\"data/theZ_400.sobj\")"
   ]
  },
  {
   "cell_type": "code",
   "execution_count": null,
   "metadata": {},
   "outputs": [],
   "source": [
    "lppp=list_plot([(g, (theZ_600[g][0]/asympZ(g)).n(digits=10) ) for g in range(30,600) ])\n",
    "lppp.save_image(\"data/ECrelplot600.png\")\n",
    "lppp"
   ]
  },
  {
   "cell_type": "code",
   "execution_count": null,
   "metadata": {},
   "outputs": [],
   "source": [
    "# computation to go into the mathematica file\n",
    "%time AA70 = computeAA(70)"
   ]
  },
  {
   "cell_type": "code",
   "execution_count": null,
   "metadata": {},
   "outputs": [],
   "source": [
    "AA70"
   ]
  },
  {
   "cell_type": "code",
   "execution_count": null,
   "metadata": {},
   "outputs": [],
   "source": []
  }
 ],
 "metadata": {
  "kernelspec": {
   "display_name": "SageMath 10.4",
   "language": "sage",
   "name": "sagemath-10.4"
  },
  "language_info": {
   "codemirror_mode": {
    "name": "ipython",
    "version": 3
   },
   "file_extension": ".py",
   "mimetype": "text/x-python",
   "name": "python",
   "nbconvert_exporter": "python",
   "pygments_lexer": "ipython3",
   "version": "3.12.4"
  }
 },
 "nbformat": 4,
 "nbformat_minor": 4
}
