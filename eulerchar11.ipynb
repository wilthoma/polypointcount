{
 "cells": [
  {
   "cell_type": "code",
   "execution_count": 4,
   "metadata": {},
   "outputs": [],
   "source": [
    "Rw.<w> = PowerSeriesRing(QQ, default_prec=11)\n",
    "Ru.<u> = PowerSeriesRing(Rw, default_prec=2400)\n",
    "\n",
    "def B(X, cutoff):\n",
    "    Y = (1/X).power_series() +O(u^cutoff)\n",
    "    Y2 = Y^2 + O(u^cutoff)\n",
    "    accu = bernoulli(2) * Y  / 2 \n",
    "    YPow = Y\n",
    "    for k in range(4, cutoff):\n",
    "        if k%2==0:\n",
    "            YPow = YPow * Y2 + O(u^cutoff)\n",
    "            accu = accu + bernoulli(k) * YPow / (k*(k-1))\n",
    "    return accu\n",
    "    #return sum( bernoulli(k) * Y^(k-1)  / (k*(k-1)) for k in range(2, cutoff) if k%2 ==0 ) +O(u^cutoff)\n",
    "def El(l):\n",
    "    return sum(moebius(l/d)*u^(-d) for d in divisors(l) )/l\n",
    "def lal(l):\n",
    "    return u^l*(1-u^l)*l\n",
    "\n",
    "def wt11Xl(l):\n",
    "    return sum(moebius(l/d)*(1-w^d+O(w^11)) for d in divisors(l))/l\n",
    "\n",
    "def logUl1(X, l, cutoff):\n",
    "    return ( X*(log( (lal(l)*El(l)).power_series() +O(u^cutoff)) -1) +(-El(l)+X-1/2)*log((1-(X +O(u^(l+cutoff)) )/El(l)).power_series())).power_series()\n",
    "def logUl2(X, l, cutoff):\n",
    "    return B(-El(l)+X, cutoff)-B(-El(l), cutoff) \n",
    "def logUl2a(X, l, cutoff):\n",
    "    return B(-El(l)+X, cutoff)\n",
    "def logUlp1(l, cutoff):\n",
    "    return logUl1(wt11Xl(l),l,cutoff)\n",
    "def logUlp2(l, cutoff):\n",
    "    return logUl2(wt11Xl(l),l,cutoff)\n",
    "def logUlp2a(l, cutoff):\n",
    "    return logUl2a(wt11Xl(l),l,cutoff)\n",
    "\n",
    "def logUl(X, l, cutoff):\n",
    "    return logUl1(X, l, cutoff) + logUl2(X, l, cutoff)\n",
    "    #return ( X*(log( (lal(l)*El(l)).power_series() ) -1) +(-El(l)+X-1/2)*log((1-X/El(l)).power_series())).power_series()+B(-El(l)+X, cutoff)-B(-El(l), cutoff) \n",
    "def logUlp(l, cutoff):\n",
    "    return logUlp1(l, cutoff) + logUlp2(l, cutoff)\n",
    "\n",
    "def mindeg(X):\n",
    "    return min([99999] + X.exponents())\n",
    "def checkgrowth(maxl,cutoff):\n",
    "    for l in range(1,maxl+1):\n",
    "        print(l,\": \", min([9999]+logUlp2(l,cutoff).exponents() ))\n"
   ]
  },
  {
   "cell_type": "code",
   "execution_count": 5,
   "metadata": {},
   "outputs": [],
   "source": [
    "def preZ(cutoff):\n",
    "    # need to go to twice the cutoff\n",
    "    #return -u*(exp(sum(logUlp(l,cutoff) for l in range(1, 2*cutoff) ))-1)\n",
    "    return -u*(exp(sum(logUlp1(l,cutoff) for l in range(1, 2*cutoff) ) + sum(logUlp2(l,cutoff) for l in range(1, cutoff/2) ))-1)\n",
    "#def makeZ(Z):\n",
    "#    return sum( u^exp * (c.truncate(11))(1) for exp, c in zip(Z.exponents(), Z.coefficients()) ) +O(u^(Z.prec()))\n",
    "def makeZ(Z):\n",
    "    return Z.map_coefficients(lambda c: (c.truncate(11))(1) )\n",
    "\n",
    "def pickwcoeff(Z,j):\n",
    "    return Z.map_coefficients( lambda c: c[j])\n",
    "def bigZ(cutoff):\n",
    "    return makeZ(preZ(cutoff))\n",
    "def preZl(l, cutoff):\n",
    "    return  exp(logUlp(l,cutoff))\n",
    "def preZl2(l, cutoff):\n",
    "    return  exp(logUlp2(l,cutoff))"
   ]
  },
  {
   "cell_type": "code",
   "execution_count": 1,
   "metadata": {},
   "outputs": [],
   "source": [
    "def compSeries(s1,s2, roundto, fit_pow=false, fit_const = 0):\n",
    "    accu = []\n",
    "    for exp in range(min(s1.prec(), s2.prec())):\n",
    "        c1 = s1[exp][0]\n",
    "        c2 = s2[exp][0]\n",
    "        \n",
    "        if c1==0 and c2==0:\n",
    "            print(exp, \":\",1)\n",
    "        elif c2==0:\n",
    "            print(exp,\":\",\"+/- Inf\")\n",
    "        else:\n",
    "            print(exp,\":\",round(c1/c2, roundto))\n",
    "            if exp>20:\n",
    "                accu.append([exp, c1/c2])\n",
    "    # fit power law \n",
    "    if fit_pow:\n",
    "        print(\"Fitting power law, even g\")\n",
    "        var(\"fit_exp fit_a\")\n",
    "        #model(x) = fit_const + fit_a * x^(-fit_exp)\n",
    "        model(x) = fit_a -  fit_exp * x\n",
    "        #ffe = find_fit([[g,a] for g,a in accu if g%2==0], model)\n",
    "        ffe = find_fit([[log(g),log(abs(a-fit_const))] for g,a in accu if g%2==0], model)\n",
    "        print(ffe)\n",
    "        print(\"Fitting power law, even g\")\n",
    "        #ffo = find_fit([[g,a] for g,a in accu if g%2==1], model)\n",
    "        ffo = find_fit([[log(g),log(abs(a-fit_const))] for g,a in accu if g%2==1], model)\n",
    "        print(ffo)\n",
    "        \n",
    "def compSeries2(s1,s2, roundto):\n",
    "    for exp in range(min(s1.prec(), s2.prec())):\n",
    "        c1 = [s1[exp][j] for j in range(11)]\n",
    "        c2 = s2[exp][0]\n",
    "        \n",
    "        if c2==0:\n",
    "            print(exp,\":\",\"ref=0\")\n",
    "        else:\n",
    "            print(exp,\":\",*[ round(cc/c2, roundto) for cc in c1] )\n",
    "\n",
    "def asymp_Z(g):\n",
    "    Cev = 1/factorial(10) * 1024 * pi^2 *(14175 - 4725 * pi^2 + 630 * pi^4 - 45 * pi^6 + 2 * pi^8)\n",
    "    Codd = 4* pi / factorial(10) * 1280 *(2835 + 2 * pi^2 * (-945 + 189 * pi^2 - 18 * pi^4 + pi^6))\n",
    "    return factorial(g-2) / (2*pi)^g * ((-1)^(g/2) * Cev if g%2==0 else (-1)^((g-1)/2)*Codd)"
   ]
  },
  {
   "cell_type": "code",
   "execution_count": 17,
   "metadata": {},
   "outputs": [
    {
     "data": {
      "text/plain": [
       "1.84577721656004e75"
      ]
     },
     "execution_count": 17,
     "metadata": {},
     "output_type": "execute_result"
    }
   ],
   "source": []
  },
  {
   "cell_type": "code",
   "execution_count": 201,
   "metadata": {},
   "outputs": [
    {
     "name": "stdout",
     "output_type": "stream",
     "text": [
      "CPU times: user 1min 8s, sys: 509 ms, total: 1min 9s\n",
      "Wall time: 1min 9s\n"
     ]
    }
   ],
   "source": [
    "%time theZ_70 = bigZ(70)"
   ]
  },
  {
   "cell_type": "code",
   "execution_count": 205,
   "metadata": {},
   "outputs": [
    {
     "name": "stdout",
     "output_type": "stream",
     "text": [
      "CPU times: user 14min 47s, sys: 3 s, total: 14min 50s\n",
      "Wall time: 14min 52s\n"
     ]
    }
   ],
   "source": [
    "%time theZ_200 = bigZ(200)"
   ]
  },
  {
   "cell_type": "code",
   "execution_count": 209,
   "metadata": {},
   "outputs": [
    {
     "name": "stdout",
     "output_type": "stream",
     "text": [
      "CPU times: user 1h 57min 45s, sys: 32.2 s, total: 1h 58min 18s\n",
      "Wall time: 1h 58min 28s\n"
     ]
    }
   ],
   "source": [
    "%time theZ_400 = bigZ(400)"
   ]
  },
  {
   "cell_type": "code",
   "execution_count": 323,
   "metadata": {},
   "outputs": [
    {
     "name": "stdout",
     "output_type": "stream",
     "text": [
      "CPU times: user 6h 39min 10s, sys: 1min 45s, total: 6h 40min 55s\n",
      "Wall time: 7h 52min 7s\n"
     ]
    }
   ],
   "source": [
    "%time theZ_600 = bigZ(600)"
   ]
  },
  {
   "cell_type": "code",
   "execution_count": 183,
   "metadata": {},
   "outputs": [
    {
     "name": "stdout",
     "output_type": "stream",
     "text": [
      "CPU times: user 27 s, sys: 80.2 ms, total: 27 s\n",
      "Wall time: 27.1 s\n"
     ]
    }
   ],
   "source": [
    "%time theZ_40 = bigZ(40)"
   ]
  },
  {
   "cell_type": "code",
   "execution_count": 181,
   "metadata": {},
   "outputs": [
    {
     "name": "stdout",
     "output_type": "stream",
     "text": [
      "CPU times: user 18.1 s, sys: 26.9 ms, total: 18.1 s\n",
      "Wall time: 18.1 s\n"
     ]
    }
   ],
   "source": [
    "%time theZ_30 = bigZ(30)"
   ]
  },
  {
   "cell_type": "code",
   "execution_count": 175,
   "metadata": {},
   "outputs": [
    {
     "data": {
      "text/plain": [
       "100"
      ]
     },
     "execution_count": 175,
     "metadata": {},
     "output_type": "execute_result"
    }
   ],
   "source": [
    "logUlp1(80,100).prec()"
   ]
  },
  {
   "cell_type": "code",
   "execution_count": 198,
   "metadata": {},
   "outputs": [
    {
     "name": "stdout",
     "output_type": "stream",
     "text": [
      "0 : 1\n",
      "1 : 0.0\n",
      "2 : 1\n",
      "3 : 1\n",
      "4 : 1\n",
      "5 : 1\n",
      "6 : 1\n",
      "7 : 1\n",
      "8 : 1\n",
      "9 : +/- Inf\n",
      "10 : +/- Inf\n",
      "11 : +/- Inf\n",
      "12 : 1\n",
      "13 : 96.0\n",
      "14 : -19.2756\n",
      "15 : -2.8762\n",
      "16 : -1.0854\n",
      "17 : 0.5403\n",
      "18 : 0.6494\n",
      "19 : 0.6108\n",
      "20 : 0.1962\n",
      "21 : -0.2484\n",
      "22 : -0.4937\n",
      "23 : -0.7259\n",
      "24 : -0.101\n",
      "25 : 0.3385\n",
      "26 : 2.5915\n",
      "27 : 0.4494\n",
      "28 : 0.7017\n",
      "29 : 0.6334\n",
      "30 : 0.7223\n",
      "31 : 0.6948\n",
      "32 : 0.6794\n",
      "33 : 0.6831\n",
      "34 : 0.7263\n",
      "35 : 0.6963\n",
      "36 : 0.7556\n",
      "37 : 0.7089\n",
      "38 : 0.7779\n",
      "39 : 0.7196\n",
      "40 : 0.7978\n"
     ]
    }
   ],
   "source": [
    "compSeries(theZ_40, a2,4)"
   ]
  },
  {
   "cell_type": "code",
   "execution_count": 126,
   "metadata": {},
   "outputs": [],
   "source": [
    "bb= logUlp2(50,80)"
   ]
  },
  {
   "cell_type": "code",
   "execution_count": 127,
   "metadata": {},
   "outputs": [
    {
     "data": {
      "text/plain": [
       "80"
      ]
     },
     "execution_count": 127,
     "metadata": {},
     "output_type": "execute_result"
    }
   ],
   "source": [
    "bb.prec()"
   ]
  },
  {
   "cell_type": "code",
   "execution_count": 58,
   "metadata": {},
   "outputs": [
    {
     "data": {
      "text/plain": [
       "2"
      ]
     },
     "execution_count": 58,
     "metadata": {},
     "output_type": "execute_result"
    }
   ],
   "source": [
    "theZ.prec()"
   ]
  },
  {
   "cell_type": "code",
   "execution_count": 48,
   "metadata": {},
   "outputs": [
    {
     "data": {
      "text/plain": [
       "-1"
      ]
     },
     "execution_count": 48,
     "metadata": {},
     "output_type": "execute_result"
    }
   ],
   "source": [
    "a2[1]"
   ]
  },
  {
   "cell_type": "code",
   "execution_count": 280,
   "metadata": {},
   "outputs": [],
   "source": [
    "f12=tent_asymp(399)/theZ_400[399][0]"
   ]
  },
  {
   "cell_type": "code",
   "execution_count": 285,
   "metadata": {},
   "outputs": [
    {
     "data": {
      "text/plain": [
       "-0.01731045250"
      ]
     },
     "execution_count": 285,
     "metadata": {},
     "output_type": "execute_result"
    }
   ],
   "source": [
    "f12.n(digits=10)"
   ]
  },
  {
   "cell_type": "code",
   "execution_count": null,
   "metadata": {},
   "outputs": [],
   "source": []
  },
  {
   "cell_type": "code",
   "execution_count": null,
   "metadata": {},
   "outputs": [],
   "source": []
  },
  {
   "cell_type": "code",
   "execution_count": 230,
   "metadata": {},
   "outputs": [],
   "source": [
    "def testBSeries(r, cutoff):\n",
    "    return -bernoulli(r)* sum( (-1)^(r-1+j) * u^(r+j) * binomial(1-r, j) *sum( binomial(j,a)* (-1)^a for a in range(11) ) for j in range(11,cutoff)) /(r*(r-1))  +O(u^cutoff)"
   ]
  },
  {
   "cell_type": "code",
   "execution_count": 231,
   "metadata": {},
   "outputs": [],
   "source": [
    "xxx = sum(testBSeries(r,40) for r in range(2,40))"
   ]
  },
  {
   "cell_type": "code",
   "execution_count": 265,
   "metadata": {},
   "outputs": [
    {
     "name": "stdout",
     "output_type": "stream",
     "text": [
      "30 : 0.0 0.0 1.0 0.0 -5.6398 0.0 9.7415 0.0 -8.1407 0.0 4.0203 0.0 -1.3157 0.0 0.3093 0.0 -0.0571 0.0\n",
      "31 : 0.0 -1.0 0.0 16.7025 0.0 -47.6229 0.0 55.2989 0.0 -34.887 0.0 13.8561 0.0 -3.7954 0.0 0.7674 0.0 -0.1243\n",
      "32 : 0.0 0.0 1.0 0.0 -5.6398 0.0 9.741 0.0 -8.1392 0.0 4.0173 0.0 -1.3117 0.0 0.3052 0.0 -0.0537 0.0\n",
      "33 : 0.0 -1.0 0.0 16.7024 0.0 -47.6224 0.0 55.2964 0.0 -34.8806 0.0 13.8457 0.0 -3.7837 0.0 0.7574 0.0 -0.1169\n",
      "34 : 0.0 0.0 1.0 0.0 -5.6398 0.0 9.7409 0.0 -8.1389 0.0 4.0166 0.0 -1.3107 0.0 0.3043 0.0 -0.053 0.0\n",
      "35 : 0.0 -1.0 0.0 16.7024 0.0 -47.6223 0.0 55.2958 0.0 -34.879 0.0 13.8432 0.0 -3.7809 0.0 0.7551 0.0 -0.1154\n",
      "36 : 0.0 0.0 1.0 0.0 -5.6398 0.0 9.7409 0.0 -8.1388 0.0 4.0164 0.0 -1.3105 0.0 0.3041 0.0 -0.0528 0.0\n",
      "37 : 0.0 -1.0 0.0 16.7024 0.0 -47.6222 0.0 55.2956 0.0 -34.8786 0.0 13.8425 0.0 -3.7802 0.0 0.7545 0.0 -0.115\n",
      "38 : 0.0 0.0 1.0 0.0 -5.6398 0.0 9.7409 0.0 -8.1388 0.0 4.0163 0.0 -1.3104 0.0 0.304 0.0 -0.0528 0.0\n",
      "39 : 0.0 -1.0 0.0 16.7024 0.0 -47.6222 0.0 55.2956 0.0 -34.8785 0.0 13.8424 0.0 -3.78 0.0 0.7544 0.0 -0.1149\n"
     ]
    }
   ],
   "source": [
    "lastn = 18\n",
    "for r in range(30, 40):\n",
    "    #cref = a2[r][0]\n",
    "    cref = 11*bernoulli(r-12)*binomial(1-r+12,12)/(r-12)/(r-13) if r%2==0 else bernoulli(r-11)*binomial(1-r+11,11)/(r-11)/(r-12)\n",
    "    cs = [testBSeries(r-10-k, 180)[r][0] for k in range(lastn)]\n",
    "    print(r,\":\",*[round(a/cref,4) for a in cs])\n",
    "    "
   ]
  },
  {
   "cell_type": "code",
   "execution_count": null,
   "metadata": {},
   "outputs": [],
   "source": []
  },
  {
   "cell_type": "code",
   "execution_count": null,
   "metadata": {},
   "outputs": [],
   "source": []
  },
  {
   "cell_type": "code",
   "execution_count": null,
   "metadata": {},
   "outputs": [],
   "source": []
  },
  {
   "cell_type": "code",
   "execution_count": 416,
   "metadata": {},
   "outputs": [],
   "source": [
    "def checkB(n):\n",
    "    return round(bernoulli(2*n-2)/bernoulli(2*n),4)\n",
    "def checkB2(n):\n",
    "    return round(-bernoulli(2*n-2)*n^2/bernoulli(2*n)/pi^2,4)\n",
    "def checkBa(n):\n",
    "    return round( -(-1)^n*4*sqrt(pi*n) * (n/pi/e)^(2*n) /bernoulli(2*n),4)\n",
    "def tent_asymp(g):\n",
    "    return tent_asymp_noconst(g) * ( 32.3 if g%2 == 0 else 57.8 )\n",
    "def tent_asymp_noconst(g):\n",
    "    return factorial(g-2)/(2*pi)^g * (-1)^(g*(g-1)/2) "
   ]
  },
  {
   "cell_type": "code",
   "execution_count": 312,
   "metadata": {},
   "outputs": [
    {
     "name": "stdout",
     "output_type": "stream",
     "text": [
      "300 : 0.9988803254\n",
      "301 : 0.9891111402\n",
      "302 : 0.9989087130\n",
      "303 : 0.9893872891\n",
      "304 : 0.9989363974\n",
      "305 : 0.9896599178\n",
      "306 : 0.9989633988\n",
      "307 : 0.9899290930\n",
      "308 : 0.9989897365\n",
      "309 : 0.9901948798\n",
      "310 : 0.9990154293\n",
      "311 : 0.9904573418\n",
      "312 : 0.9990404953\n",
      "313 : 0.9907165409\n",
      "314 : 0.9990649520\n",
      "315 : 0.9909725374\n",
      "316 : 0.9990888162\n",
      "317 : 0.9912253904\n",
      "318 : 0.9991121045\n",
      "319 : 0.9914751572\n",
      "320 : 0.9991348325\n",
      "321 : 0.9917218939\n",
      "322 : 0.9991570156\n",
      "323 : 0.9919656553\n",
      "324 : 0.9991786688\n",
      "325 : 0.9922064949\n",
      "326 : 0.9991998062\n",
      "327 : 0.9924444647\n",
      "328 : 0.9992204417\n",
      "329 : 0.9926796158\n",
      "330 : 0.9992405890\n",
      "331 : 0.9929119978\n",
      "332 : 0.9992602608\n",
      "333 : 0.9931416593\n",
      "334 : 0.9992794699\n",
      "335 : 0.9933686477\n",
      "336 : 0.9992982285\n",
      "337 : 0.9935930095\n",
      "338 : 0.9993165484\n",
      "339 : 0.9938147898\n",
      "340 : 0.9993344411\n",
      "341 : 0.9940340330\n",
      "342 : 0.9993519176\n",
      "343 : 0.9942507822\n",
      "344 : 0.9993689888\n",
      "345 : 0.9944650798\n",
      "346 : 0.9993856652\n",
      "347 : 0.9946769671\n",
      "348 : 0.9994019567\n",
      "349 : 0.9948864844\n",
      "350 : 0.9994178734\n",
      "351 : 0.9950936712\n",
      "352 : 0.9994334246\n",
      "353 : 0.9952985663\n",
      "354 : 0.9994486197\n",
      "355 : 0.9955012073\n",
      "356 : 0.9994634676\n",
      "357 : 0.9957016312\n",
      "358 : 0.9994779769\n",
      "359 : 0.9958998742\n",
      "360 : 0.9994921563\n",
      "361 : 0.9960959716\n",
      "362 : 0.9995060138\n",
      "363 : 0.9962899581\n",
      "364 : 0.9995195575\n",
      "365 : 0.9964818676\n",
      "366 : 0.9995327950\n",
      "367 : 0.9966717331\n",
      "368 : 0.9995457339\n",
      "369 : 0.9968595871\n",
      "370 : 0.9995583814\n",
      "371 : 0.9970454614\n",
      "372 : 0.9995707447\n",
      "373 : 0.9972293871\n",
      "374 : 0.9995828307\n",
      "375 : 0.9974113947\n",
      "376 : 0.9995946459\n",
      "377 : 0.9975915140\n",
      "378 : 0.9996061970\n",
      "379 : 0.9977697741\n",
      "380 : 0.9996174902\n",
      "381 : 0.9979462038\n",
      "382 : 0.9996285317\n",
      "383 : 0.9981208309\n",
      "384 : 0.9996393274\n",
      "385 : 0.9982936831\n",
      "386 : 0.9996498833\n",
      "387 : 0.9984647872\n",
      "388 : 0.9996602048\n",
      "389 : 0.9986341694\n",
      "390 : 0.9996702975\n",
      "391 : 0.9988018558\n",
      "392 : 0.9996801668\n",
      "393 : 0.9989678716\n",
      "394 : 0.9996898178\n",
      "395 : 0.9991322417\n",
      "396 : 0.9996992556\n",
      "397 : 0.9992949902\n",
      "398 : 0.9997084851\n",
      "399 : 0.9994561413\n"
     ]
    }
   ],
   "source": [
    "for g in range(300,400):\n",
    "    cref = theZ_400[g][0]\n",
    "    print(g,\":\",(cref/tent_asymp(g)).n(digits=10))"
   ]
  },
  {
   "cell_type": "code",
   "execution_count": 3,
   "metadata": {
    "scrolled": true
   },
   "outputs": [
    {
     "ename": "AssertionError",
     "evalue": "<class 'sage.rings.infinity.InfinityRing_class_with_category'> is not a direct subclass of <class 'sage.misc.fast_methods.Singleton'>",
     "output_type": "error",
     "traceback": [
      "\u001b[0;31m---------------------------------------------------------------------------\u001b[0m",
      "\u001b[0;31mAssertionError\u001b[0m                            Traceback (most recent call last)",
      "Cell \u001b[0;32mIn[3], line 1\u001b[0m\n\u001b[0;32m----> 1\u001b[0m theZ_2400 \u001b[38;5;241m=\u001b[39m \u001b[43mload\u001b[49m\u001b[43m(\u001b[49m\u001b[38;5;124;43m\"\u001b[39;49m\u001b[38;5;124;43mdata/theZ_2400.sobj\u001b[39;49m\u001b[38;5;124;43m\"\u001b[39;49m\u001b[43m)\u001b[49m\n",
      "File \u001b[0;32m/private/var/tmp/sage-10.4-current/local/var/lib/sage/venv-python3.12.4/lib/python3.12/site-packages/sage/misc/persist.pyx:190\u001b[0m, in \u001b[0;36msage.misc.persist.load (build/cythonized/sage/misc/persist.c:4933)\u001b[0;34m()\u001b[0m\n\u001b[1;32m    188\u001b[0m \n\u001b[1;32m    189\u001b[0m     ## Load file by absolute filename\n\u001b[0;32m--> 190\u001b[0m     with open(filename, 'rb') as fobj:\n\u001b[1;32m    191\u001b[0m         X = loads(fobj.read(), compress=compress, **kwargs)\n\u001b[1;32m    192\u001b[0m     try:\n",
      "File \u001b[0;32m/private/var/tmp/sage-10.4-current/local/var/lib/sage/venv-python3.12.4/lib/python3.12/site-packages/sage/misc/persist.pyx:191\u001b[0m, in \u001b[0;36msage.misc.persist.load (build/cythonized/sage/misc/persist.c:4883)\u001b[0;34m()\u001b[0m\n\u001b[1;32m    189\u001b[0m ## Load file by absolute filename\n\u001b[1;32m    190\u001b[0m with open(filename, 'rb') as fobj:\n\u001b[0;32m--> 191\u001b[0m     X = loads(fobj.read(), compress=compress, **kwargs)\n\u001b[1;32m    192\u001b[0m try:\n\u001b[1;32m    193\u001b[0m     X._default_filename = os.path.abspath(filename)\n",
      "File \u001b[0;32m/private/var/tmp/sage-10.4-current/local/var/lib/sage/venv-python3.12.4/lib/python3.12/site-packages/sage/misc/persist.pyx:997\u001b[0m, in \u001b[0;36msage.misc.persist.loads (build/cythonized/sage/misc/persist.c:10484)\u001b[0;34m()\u001b[0m\n\u001b[1;32m    995\u001b[0m unpickler = SageUnpickler(io.BytesIO(s), **kwargs)\n\u001b[1;32m    996\u001b[0m global already_unpickled\n\u001b[0;32m--> 997\u001b[0m ans = unpickler.load()\n\u001b[1;32m    998\u001b[0m already_unpickled = { }\n\u001b[1;32m    999\u001b[0m return ans\n",
      "File \u001b[0;32m/private/var/tmp/sage-10.4-current/local/var/lib/sage/venv-python3.12.4/lib/python3.12/site-packages/sage/misc/classcall_metaclass.pyx:321\u001b[0m, in \u001b[0;36msage.misc.classcall_metaclass.ClasscallMetaclass.__call__ (build/cythonized/sage/misc/classcall_metaclass.c:3194)\u001b[0;34m()\u001b[0m\n\u001b[1;32m    319\u001b[0m \"\"\"\n\u001b[1;32m    320\u001b[0m if cls.classcall is not None:\n\u001b[0;32m--> 321\u001b[0m     return cls.classcall(cls, *args, **kwds)\n\u001b[1;32m    322\u001b[0m else:\n\u001b[1;32m    323\u001b[0m     # Fast version of type.__call__(cls, *args, **kwds)\n",
      "File \u001b[0;32m/private/var/tmp/sage-10.4-current/local/var/lib/sage/venv-python3.12.4/lib/python3.12/site-packages/sage/misc/fast_methods.pyx:299\u001b[0m, in \u001b[0;36msage.misc.fast_methods.Singleton.__classcall__ (build/cythonized/sage/misc/fast_methods.c:3430)\u001b[0;34m()\u001b[0m\n\u001b[1;32m    297\u001b[0m     True\n\u001b[1;32m    298\u001b[0m \"\"\"\n\u001b[0;32m--> 299\u001b[0m assert cls.mro()[1] == Singleton, \"{} is not a direct subclass of {}\".format(cls, Singleton)\n\u001b[1;32m    300\u001b[0m res = typecall(cls)\n\u001b[1;32m    301\u001b[0m cf = ConstantFunction(res)\n",
      "\u001b[0;31mAssertionError\u001b[0m: <class 'sage.rings.infinity.InfinityRing_class_with_category'> is not a direct subclass of <class 'sage.misc.fast_methods.Singleton'>"
     ]
    }
   ],
   "source": [
    "theZ_2400 = load(\"data/theZ_2400.sobj\")"
   ]
  },
  {
   "cell_type": "code",
   "execution_count": 422,
   "metadata": {},
   "outputs": [
    {
     "data": {
      "image/png": "[encoded data removed]",
      "text/plain": [
       "Graphics object consisting of 1 graphics primitive"
      ]
     },
     "execution_count": 422,
     "metadata": {},
     "output_type": "execute_result"
    }
   ],
   "source": [
    "list_plot([(g, (theZ_600[g][0]/tent_asymp_noconst(g)).n(digits=10) ) for g in range(50,600) ])"
   ]
  },
  {
   "cell_type": "code",
   "execution_count": 319,
   "metadata": {},
   "outputs": [],
   "source": [
    "lppp.save_image(\"data/ECrelplot.png\")"
   ]
  },
  {
   "cell_type": "code",
   "execution_count": 351,
   "metadata": {},
   "outputs": [],
   "source": [
    "# other formulas for makeZ(-u* logUlp2(1,cutoff))\n",
    "def altB1(cutoff):\n",
    "    return sum((-u)^k * \n",
    "               sum( bernoulli(k-j)*(-1)^j*factorial(k-2)/( factorial(k-j) * j * factorial(j-11) * factorial(10))\n",
    "                   for j in range(11,k-1)) \n",
    "               for k in range(13,cutoff)) + O(u^cutoff)\n",
    "def altB1b(cutoff):\n",
    "    return sum(bernoulli(r)/r/(r-1) * (-u)^r *\n",
    "               sum( binomial(1-r, j) * (-u)^j * binomial(j-1,10)\n",
    "               for j in range(11,cutoff))\n",
    "        for r in range(2,cutoff)) + O(u^cutoff)"
   ]
  },
  {
   "cell_type": "code",
   "execution_count": 350,
   "metadata": {},
   "outputs": [
    {
     "data": {
      "text/plain": [
       "1/12*u^13 + 11/12*u^14 + 317/60*u^15 + 7579/360*u^16 + 261/4*u^17 + 6149/36*u^18 + 36583/90*u^19 + 770627/840*u^20 + 633497/330*u^21 + 298129/84*u^22 + 682571/110*u^23 + 9356341/720*u^24 + 3561787/130*u^25 + 1686383/84*u^26 - 159027835/3276*u^27 + 34526059/108*u^28 + 831977513/420*u^29 + O(u^30)"
      ]
     },
     "execution_count": 350,
     "metadata": {},
     "output_type": "execute_result"
    }
   ],
   "source": [
    "altB1(30)"
   ]
  },
  {
   "cell_type": "code",
   "execution_count": 346,
   "metadata": {},
   "outputs": [
    {
     "data": {
      "text/plain": [
       "1/12*u^13 + 11/12*u^14 + 317/60*u^15 + 7579/360*u^16 + 261/4*u^17 + 6149/36*u^18 + 36583/90*u^19 + 770627/840*u^20 + 633497/330*u^21 + 298129/84*u^22 + 682571/110*u^23 + 9356341/720*u^24 + 3561787/130*u^25 + 1686383/84*u^26 - 159027835/3276*u^27 + 34526059/108*u^28 + 831977513/420*u^29 + O(u^30)"
      ]
     },
     "execution_count": 346,
     "metadata": {},
     "output_type": "execute_result"
    }
   ],
   "source": [
    "altB1b(30)"
   ]
  },
  {
   "cell_type": "code",
   "execution_count": 340,
   "metadata": {},
   "outputs": [
    {
     "data": {
      "text/plain": [
       "1/12*u^13 + 11/12*u^14 + 317/60*u^15 + 7579/360*u^16 + 261/4*u^17 + 6149/36*u^18 + 36583/90*u^19 + 770627/840*u^20 + 633497/330*u^21 + 298129/84*u^22 + 682571/110*u^23 + 9356341/720*u^24 + 3561787/130*u^25 + 1686383/84*u^26 - 159027835/3276*u^27 + 34526059/108*u^28 + 831977513/420*u^29 - 50983709/12*u^30 + O(u^31)"
      ]
     },
     "execution_count": 340,
     "metadata": {},
     "output_type": "execute_result"
    }
   ],
   "source": [
    "makeZ(-u* logUlp2(1,30))"
   ]
  },
  {
   "cell_type": "code",
   "execution_count": 356,
   "metadata": {},
   "outputs": [],
   "source": [
    "s1test = makeZ(exp(logUlp2(1,80))-1)\n",
    "s2test = makeZ(-u*logUlp2(1,200))"
   ]
  },
  {
   "cell_type": "code",
   "execution_count": 359,
   "metadata": {},
   "outputs": [],
   "source": [
    "s3test = makeZ(logUlp2(1,60)^2)"
   ]
  },
  {
   "cell_type": "code",
   "execution_count": 360,
   "metadata": {},
   "outputs": [
    {
     "name": "stdout",
     "output_type": "stream",
     "text": [
      "0 : 1\n",
      "1 : 1\n",
      "2 : 1\n",
      "3 : 1\n",
      "4 : 1\n",
      "5 : 1\n",
      "6 : 1\n",
      "7 : 1\n",
      "8 : 1\n",
      "9 : 1\n",
      "10 : 1\n",
      "11 : 1\n",
      "12 : 0.0\n",
      "13 : -0.0758\n",
      "14 : -0.159\n",
      "15 : -0.255\n",
      "16 : -0.3674\n",
      "17 : -0.4911\n",
      "18 : -0.6044\n",
      "19 : -0.6882\n",
      "20 : -0.7684\n",
      "21 : -0.9016\n",
      "22 : -1.0451\n",
      "23 : -0.9499\n",
      "24 : -0.8266\n",
      "25 : -2.0518\n",
      "26 : 1.4476\n",
      "27 : -0.3129\n",
      "28 : -0.081\n",
      "29 : 0.1192\n",
      "30 : 0.0209\n",
      "31 : 0.0354\n",
      "32 : 0.0059\n",
      "33 : 0.0373\n",
      "34 : 0.0056\n",
      "35 : 0.032\n",
      "36 : 0.0044\n",
      "37 : 0.0281\n",
      "38 : 0.0036\n",
      "39 : 0.0249\n",
      "40 : 0.003\n",
      "41 : 0.0222\n",
      "42 : 0.0025\n",
      "43 : 0.0199\n",
      "44 : 0.0021\n",
      "45 : 0.0179\n",
      "46 : 0.0018\n",
      "47 : 0.0162\n",
      "48 : 0.0015\n",
      "49 : 0.0148\n",
      "50 : 0.0013\n",
      "51 : 0.0135\n",
      "52 : 0.0011\n",
      "53 : 0.0124\n",
      "54 : 0.001\n",
      "55 : 0.0114\n",
      "56 : 0.0009\n",
      "57 : 0.0105\n",
      "58 : 0.0008\n",
      "59 : 0.0097\n",
      "60 : 0.0007\n",
      "61 : 0.009\n"
     ]
    }
   ],
   "source": [
    "compSeries(s3test, s2test, 4)"
   ]
  },
  {
   "cell_type": "code",
   "execution_count": 361,
   "metadata": {},
   "outputs": [
    {
     "data": {
      "text/plain": [
       "-1/12*u^12 - 11/12*u^13 - 317/60*u^14 - 7579/360*u^15 - 261/4*u^16 - 6149/36*u^17 - 36583/90*u^18 - 770627/840*u^19 - 633497/330*u^20 - 298129/84*u^21 - 682571/110*u^22 - 9356341/720*u^23 - 3561787/130*u^24 - 1686383/84*u^25 + 159027835/3276*u^26 - 34526059/108*u^27 - 831977513/420*u^28 + 50983709/12*u^29 + 74598063589/1980*u^30 - 242820755703/2464*u^31 - 19176680124881/21420*u^32 + 2277027211793/924*u^33 + 42713677383233/1785*u^34 - 176562416780251/2520*u^35 - 24053085890253553/33345*u^36 + 813951591653825/364*u^37 + 145662320440717279/5985*u^38 - 5217918755069782103/65520*u^39 - 5276228600989347593/5775*u^40 + 8723313461818044149/2772*u^41 + 105208044544929895255/2772*u^42 - 4804295463718868067/35*u^43 - 8302254789869471061155507/4781700*u^44 + 24866511304701795148943/3780*u^45 + 841194282178467834863191/9660*u^46 - 36217875151868899656751/105*u^47 - 1327938484743914152217008447/278460*u^48 + 12807153976426409403817019777/649740*u^49 + 18282739462986193384781496689/64350*u^50 - 16469995384349265405561256885/13464*u^51 - 78728224111074350109963804439/4290*u^52 + 488112132375682505065325434039/5940*u^53 + 138015956397462984602665395038857/107730*u^54 - 2091696251211077212380625474908913/351120*u^55 - 1760872452760517344414002355869751/18270*u^56 + 1589498549947061265772153824968579/3420*u^57 + 2711887953584591611144608212809643/348*u^58 - 7005669539811041194276709472015643/180*u^59 - 18864749696649330489356979305763195002659/27927900*u^60 + 29943871864236896437394751120962235743/8580*u^61 + 1049357923841137074785403867761083176502519/16756740*u^62 - 2891547131439952146077857250597094635694299/8648640*u^63 - 115863921630567452139312829434611884625757/18700*u^64 + 754632518872233339831104581085628980406843/22100*u^65 + 98282840169768651221037522240506727239656782/150535*u^66 - 71688240268969439950655387276515948080287683/19320*u^67 - 8702542927148103782169745657646741187596254/119*u^68 + 62048767874635185661884558987851811609746150131/144900*u^69 + 3346248650541838231702950300790731056507658926/385*u^70 - 82986480780808439631745625672987333717609947531/1584*u^71 - 34649426265122885138569443449863711778825899361584874/31666635*u^72 + 7741448122059609708489632242413895400731263814311277/1141140*u^73 + 30753914923780980674399599925512627230758676423724620083/211110900*u^74 - 139380962311544790548894051308799610550831678498146791/150150*u^75 - 708187059480282947744004717124768288383781560354984931/34580*u^76 + 265374037081643735789566803951198251967368743558157233/1980*u^77 + 16575255105654383059080285653174677781245791418053140521/5460*u^78 - 17127663354201804887084084294100101157931725655729032653/840*u^79 + O(u^80)"
      ]
     },
     "execution_count": 361,
     "metadata": {},
     "output_type": "execute_result"
    }
   ],
   "source": [
    "s2test"
   ]
  },
  {
   "cell_type": "code",
   "execution_count": 362,
   "metadata": {},
   "outputs": [
    {
     "data": {
      "text/plain": [
       "5/72*u^13 + 121/144*u^14 + 773/144*u^15 + 5753/240*u^16 + 6341087/75600*u^17 + 37143887/151200*u^18 + 31818439/50400*u^19 + 223022393/151200*u^20 + 111765522017/34927200*u^21 + 420244517/64800*u^22 + 4852389007/393120*u^23 + 2804589134801/123832800*u^24 + 17350406419/421200*u^25 + 4351043469989/61916400*u^26 + 6478577044417/64774080*u^27 + 17325311265541/107956800*u^28 + 907016301609479/1790712000*u^29 + 1066137934915044433/1353778272000*u^30 - 26226553364179691/7520990400*u^31 - 359519539972789267/67688913600*u^32 + 258119415437470246601/2810970162000*u^33 + 2726777061182595476381/20238985166400*u^34 - 22442023235180368769/10021284000*u^35 - 124099993727308314071/38821582800*u^36 + 5676927000662943304129/90191556000*u^37 + 94930294147224004426253/1082298672000*u^38 - 9016695889720599019598861/4542806268000*u^39 - 22558000089954702851774689/8328478158000*u^40 + 25743413752072642051460334449/368316754344000*u^41 + 4931836768635331595896984235581/52669295871192000*u^42 - 671021847681088238319567644381/245544502896000*u^43 - 45528455541598285280892496016621/12640631009086080*u^44 + 35791106343062316796119941122063987/303247461076560000*u^45 + 134748621271014288748792520617109/878978148048000*u^46 - 7290643313648486413914167022287551/1300887659111040*u^47 - 27337785066506904106669314423233317159/3805096402899792000*u^48 + 19380474829466132884000752799441193899/66522664386360000*u^49 + 15448167004532295842719593054366186665621/41856060431897712000*u^50 - 72671165938564652176870438370229366949067/4400252506943092800*u^51 - 152229440599250212693913459584043718528911/7354707761604883680*u^52 + 11718490120535201124753095354398183427168219041/11519602224794255592000*u^53 + 209772333058153517351000702134932607970510525689/166161535121274717024000*u^54 - 1930135868298137042150189171630758579659184273/28443462283442606400*u^55 - 346698735728500311472561100122693561413332287601/4154038378031867925600*u^56 + 2726274685889601810894488730855873118787912268357497/557828010764279407152000*u^57 + 5948964437895521440893965872104386560577121027031/997903418182968528000*u^58 - 383657003400481385799635661067543062807586810736813/1012392034054953552000*u^59 - 464885241892846638604414493271686395726504526542968317/1013404426089008505552000*u^60 + 31975667107037107427208976032573778894531217999202486827/1013404426089008505552000*u^61 + O(u^62)"
      ]
     },
     "execution_count": 362,
     "metadata": {},
     "output_type": "execute_result"
    }
   ],
   "source": [
    "s3test"
   ]
  },
  {
   "cell_type": "code",
   "execution_count": 368,
   "metadata": {},
   "outputs": [],
   "source": [
    "s2test = makeZ(-u*logUlp2(1,400))"
   ]
  },
  {
   "cell_type": "code",
   "execution_count": 383,
   "metadata": {},
   "outputs": [],
   "source": [
    "s3test = makeZ(-u*logUlp(2,400))"
   ]
  },
  {
   "cell_type": "code",
   "execution_count": 384,
   "metadata": {},
   "outputs": [],
   "source": [
    "u3_term = makeZ(-u*logUlp(3,400))"
   ]
  },
  {
   "cell_type": "code",
   "execution_count": 404,
   "metadata": {},
   "outputs": [
    {
     "data": {
      "text/plain": [
       "(-1/2*w + 1/2*w^2 + O(w^11))*u + (-1/4*w + 1/2*w^3 - 1/4*w^4 + O(w^11))*u^2 + (1/3*w - 7/12*w^2 + 1/2*w^3 - 1/4*w^4 + O(w^11))*u^3 + (1/8*w - 1/8*w^2 - 1/12*w^3 + 1/4*w^4 - 1/4*w^5 + 1/12*w^6 + O(w^11))*u^4 + O(u^5)"
      ]
     },
     "execution_count": 404,
     "metadata": {},
     "output_type": "execute_result"
    }
   ],
   "source": [
    "logUlp1(2,5)"
   ]
  },
  {
   "cell_type": "code",
   "execution_count": 405,
   "metadata": {},
   "outputs": [
    {
     "data": {
      "text/plain": [
       "(-1 + 3/2*w - 1/2*w^2 + O(w^11))*u + (-5/12 + 1/2*w - 1/4*w^2 + 1/6*w^3 + O(w^11))*u^2 + (-1/4 + 1/6*w + 1/6*w^3 - 1/12*w^4 + O(w^11))*u^3 + (-7/40 + 1/4*w^2 - 1/8*w^4 + 1/20*w^5 + O(w^11))*u^4 + O(u^5)"
      ]
     },
     "execution_count": 405,
     "metadata": {},
     "output_type": "execute_result"
    }
   ],
   "source": [
    "logUlp1(1,5)"
   ]
  },
  {
   "cell_type": "code",
   "execution_count": 406,
   "metadata": {},
   "outputs": [
    {
     "data": {
      "text/plain": [
       "(-1/4*w^2 + 1/4*w^4 + O(w^11))*u^2 + (1/8*w^2 - 1/4*w^4 + 1/4*w^6 - 1/8*w^8 + O(w^11))*u^4 + O(u^5)"
      ]
     },
     "execution_count": 406,
     "metadata": {},
     "output_type": "execute_result"
    }
   ],
   "source": [
    "logUlp1(4,5)"
   ]
  },
  {
   "cell_type": "code",
   "execution_count": 407,
   "metadata": {},
   "outputs": [
    {
     "data": {
      "text/plain": [
       "(-1/5*w + 1/5*w^5 + O(w^11))*u^4 + O(u^5)"
      ]
     },
     "execution_count": 407,
     "metadata": {},
     "output_type": "execute_result"
    }
   ],
   "source": [
    "logUlp1(5,5)"
   ]
  },
  {
   "cell_type": "code",
   "execution_count": 408,
   "metadata": {},
   "outputs": [
    {
     "data": {
      "text/plain": [
       "(1/6*w - 1/6*w^2 - 1/6*w^3 + 1/6*w^6 + O(w^11))*u^3 + (1/6*w - 1/6*w^2 - 1/6*w^3 + 1/6*w^6 + O(w^11))*u^4 + O(u^5)"
      ]
     },
     "execution_count": 408,
     "metadata": {},
     "output_type": "execute_result"
    }
   ],
   "source": [
    "logUlp1(6,5)"
   ]
  },
  {
   "cell_type": "code",
   "execution_count": 409,
   "metadata": {},
   "outputs": [
    {
     "data": {
      "text/plain": [
       "O(u^5)"
      ]
     },
     "execution_count": 409,
     "metadata": {},
     "output_type": "execute_result"
    }
   ],
   "source": [
    "logUlp1(7,5)"
   ]
  },
  {
   "cell_type": "code",
   "execution_count": 410,
   "metadata": {},
   "outputs": [
    {
     "data": {
      "text/plain": [
       "(-1 + w + O(w^11))*u + (-5/12 - 1/12*w - 1/2*w^2 + w^3 + O(w^11))*u^2 + (-1/4 + 5/6*w - 11/12*w^2 + 1/3*w^3 + O(w^11))*u^3 + (-7/40 - 3/40*w + 1/12*w^2 - 1/12*w^3 - 1/8*w^4 + 1/2*w^6 - 1/8*w^8 + O(w^11))*u^4 + O(u^5)"
      ]
     },
     "execution_count": 410,
     "metadata": {},
     "output_type": "execute_result"
    }
   ],
   "source": [
    "sum(logUlp1(k,5) for k in range(1,7))"
   ]
  },
  {
   "cell_type": "code",
   "execution_count": 411,
   "metadata": {},
   "outputs": [
    {
     "data": {
      "text/plain": [
       "(-1/2*w + 1/2*w^2 + O(w^11))*u + (-7/12*w - 1/4*w^2 + 5/6*w^3 + O(w^11))*u^2 + (2/3*w - 11/12*w^2 + 1/6*w^3 + 1/12*w^4 + O(w^11))*u^3 + (-3/40*w - 1/6*w^2 - 1/12*w^3 - 1/20*w^5 + 1/2*w^6 - 1/8*w^8 + O(w^11))*u^4 + O(u^5)"
      ]
     },
     "execution_count": 411,
     "metadata": {},
     "output_type": "execute_result"
    }
   ],
   "source": [
    "sum(logUlp1(k,5) for k in range(2,7))"
   ]
  },
  {
   "cell_type": "code",
   "execution_count": 2,
   "metadata": {},
   "outputs": [
    {
     "ename": "AssertionError",
     "evalue": "<class 'sage.rings.infinity.InfinityRing_class_with_category'> is not a direct subclass of <class 'sage.misc.fast_methods.Singleton'>",
     "output_type": "error",
     "traceback": [
      "\u001b[0;31m---------------------------------------------------------------------------\u001b[0m",
      "\u001b[0;31mAssertionError\u001b[0m                            Traceback (most recent call last)",
      "Cell \u001b[0;32mIn[2], line 1\u001b[0m\n\u001b[0;32m----> 1\u001b[0m b \u001b[38;5;241m=\u001b[39m \u001b[43mload\u001b[49m\u001b[43m \u001b[49m\u001b[43m(\u001b[49m\u001b[38;5;124;43m\"\u001b[39;49m\u001b[38;5;124;43mdata/theZ_2400.sobj\u001b[39;49m\u001b[38;5;124;43m\"\u001b[39;49m\u001b[43m)\u001b[49m\n",
      "File \u001b[0;32m/private/var/tmp/sage-10.4-current/local/var/lib/sage/venv-python3.12.4/lib/python3.12/site-packages/sage/misc/persist.pyx:190\u001b[0m, in \u001b[0;36msage.misc.persist.load (build/cythonized/sage/misc/persist.c:4933)\u001b[0;34m()\u001b[0m\n\u001b[1;32m    188\u001b[0m \n\u001b[1;32m    189\u001b[0m     ## Load file by absolute filename\n\u001b[0;32m--> 190\u001b[0m     with open(filename, 'rb') as fobj:\n\u001b[1;32m    191\u001b[0m         X = loads(fobj.read(), compress=compress, **kwargs)\n\u001b[1;32m    192\u001b[0m     try:\n",
      "File \u001b[0;32m/private/var/tmp/sage-10.4-current/local/var/lib/sage/venv-python3.12.4/lib/python3.12/site-packages/sage/misc/persist.pyx:191\u001b[0m, in \u001b[0;36msage.misc.persist.load (build/cythonized/sage/misc/persist.c:4883)\u001b[0;34m()\u001b[0m\n\u001b[1;32m    189\u001b[0m ## Load file by absolute filename\n\u001b[1;32m    190\u001b[0m with open(filename, 'rb') as fobj:\n\u001b[0;32m--> 191\u001b[0m     X = loads(fobj.read(), compress=compress, **kwargs)\n\u001b[1;32m    192\u001b[0m try:\n\u001b[1;32m    193\u001b[0m     X._default_filename = os.path.abspath(filename)\n",
      "File \u001b[0;32m/private/var/tmp/sage-10.4-current/local/var/lib/sage/venv-python3.12.4/lib/python3.12/site-packages/sage/misc/persist.pyx:997\u001b[0m, in \u001b[0;36msage.misc.persist.loads (build/cythonized/sage/misc/persist.c:10484)\u001b[0;34m()\u001b[0m\n\u001b[1;32m    995\u001b[0m unpickler = SageUnpickler(io.BytesIO(s), **kwargs)\n\u001b[1;32m    996\u001b[0m global already_unpickled\n\u001b[0;32m--> 997\u001b[0m ans = unpickler.load()\n\u001b[1;32m    998\u001b[0m already_unpickled = { }\n\u001b[1;32m    999\u001b[0m return ans\n",
      "File \u001b[0;32m/private/var/tmp/sage-10.4-current/local/var/lib/sage/venv-python3.12.4/lib/python3.12/site-packages/sage/misc/classcall_metaclass.pyx:321\u001b[0m, in \u001b[0;36msage.misc.classcall_metaclass.ClasscallMetaclass.__call__ (build/cythonized/sage/misc/classcall_metaclass.c:3194)\u001b[0;34m()\u001b[0m\n\u001b[1;32m    319\u001b[0m \"\"\"\n\u001b[1;32m    320\u001b[0m if cls.classcall is not None:\n\u001b[0;32m--> 321\u001b[0m     return cls.classcall(cls, *args, **kwds)\n\u001b[1;32m    322\u001b[0m else:\n\u001b[1;32m    323\u001b[0m     # Fast version of type.__call__(cls, *args, **kwds)\n",
      "File \u001b[0;32m/private/var/tmp/sage-10.4-current/local/var/lib/sage/venv-python3.12.4/lib/python3.12/site-packages/sage/misc/fast_methods.pyx:299\u001b[0m, in \u001b[0;36msage.misc.fast_methods.Singleton.__classcall__ (build/cythonized/sage/misc/fast_methods.c:3430)\u001b[0;34m()\u001b[0m\n\u001b[1;32m    297\u001b[0m     True\n\u001b[1;32m    298\u001b[0m \"\"\"\n\u001b[0;32m--> 299\u001b[0m assert cls.mro()[1] == Singleton, \"{} is not a direct subclass of {}\".format(cls, Singleton)\n\u001b[1;32m    300\u001b[0m res = typecall(cls)\n\u001b[1;32m    301\u001b[0m cf = ConstantFunction(res)\n",
      "\u001b[0;31mAssertionError\u001b[0m: <class 'sage.rings.infinity.InfinityRing_class_with_category'> is not a direct subclass of <class 'sage.misc.fast_methods.Singleton'>"
     ]
    }
   ],
   "source": [
    "b = load (\"data/theZ_2400.sobj\")"
   ]
  },
  {
   "cell_type": "code",
   "execution_count": null,
   "metadata": {},
   "outputs": [],
   "source": []
  },
  {
   "cell_type": "code",
   "execution_count": null,
   "metadata": {},
   "outputs": [],
   "source": [
    "list_plot([(g, (theZ_600[g][0]/tent_asymp_noconst(g)).n(digits=10) ) for g in range(50,600) ])"
   ]
  }
 ],
 "metadata": {
  "kernelspec": {
   "display_name": "SageMath 10.4",
   "language": "sage",
   "name": "sagemath-10.4"
  },
  "language_info": {
   "codemirror_mode": {
    "name": "ipython",
    "version": 3
   },
   "file_extension": ".py",
   "mimetype": "text/x-python",
   "name": "python",
   "nbconvert_exporter": "python",
   "pygments_lexer": "ipython3",
   "version": "3.12.4"
  }
 },
 "nbformat": 4,
 "nbformat_minor": 4
}
